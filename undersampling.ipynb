{
 "cells": [
  {
   "cell_type": "markdown",
   "id": "44b23690",
   "metadata": {},
   "source": [
    "\n",
    "**Dataset**: https://www.kaggle.com/datasets/ethancratchley/email-phishing-dataset"
   ]
  },
  {
   "cell_type": "markdown",
   "id": "4df4a739",
   "metadata": {},
   "source": [
    "Loading The Dataset"
   ]
  },
  {
   "cell_type": "code",
   "execution_count": 25,
   "id": "f3b9300c",
   "metadata": {},
   "outputs": [],
   "source": [
    "import pandas as pd"
   ]
  },
  {
   "cell_type": "code",
   "execution_count": 26,
   "id": "40471dc3",
   "metadata": {},
   "outputs": [
    {
     "data": {
      "text/html": [
       "<div>\n",
       "<style scoped>\n",
       "    .dataframe tbody tr th:only-of-type {\n",
       "        vertical-align: middle;\n",
       "    }\n",
       "\n",
       "    .dataframe tbody tr th {\n",
       "        vertical-align: top;\n",
       "    }\n",
       "\n",
       "    .dataframe thead th {\n",
       "        text-align: right;\n",
       "    }\n",
       "</style>\n",
       "<table border=\"1\" class=\"dataframe\">\n",
       "  <thead>\n",
       "    <tr style=\"text-align: right;\">\n",
       "      <th></th>\n",
       "      <th>num_words</th>\n",
       "      <th>num_unique_words</th>\n",
       "      <th>num_stopwords</th>\n",
       "      <th>num_links</th>\n",
       "      <th>num_unique_domains</th>\n",
       "      <th>num_email_addresses</th>\n",
       "      <th>num_spelling_errors</th>\n",
       "      <th>num_urgent_keywords</th>\n",
       "      <th>label</th>\n",
       "    </tr>\n",
       "  </thead>\n",
       "  <tbody>\n",
       "    <tr>\n",
       "      <th>0</th>\n",
       "      <td>140</td>\n",
       "      <td>94</td>\n",
       "      <td>52</td>\n",
       "      <td>0</td>\n",
       "      <td>0</td>\n",
       "      <td>0</td>\n",
       "      <td>0</td>\n",
       "      <td>0</td>\n",
       "      <td>0</td>\n",
       "    </tr>\n",
       "    <tr>\n",
       "      <th>1</th>\n",
       "      <td>5</td>\n",
       "      <td>5</td>\n",
       "      <td>1</td>\n",
       "      <td>0</td>\n",
       "      <td>0</td>\n",
       "      <td>0</td>\n",
       "      <td>0</td>\n",
       "      <td>0</td>\n",
       "      <td>0</td>\n",
       "    </tr>\n",
       "    <tr>\n",
       "      <th>2</th>\n",
       "      <td>34</td>\n",
       "      <td>32</td>\n",
       "      <td>15</td>\n",
       "      <td>0</td>\n",
       "      <td>0</td>\n",
       "      <td>0</td>\n",
       "      <td>0</td>\n",
       "      <td>0</td>\n",
       "      <td>0</td>\n",
       "    </tr>\n",
       "    <tr>\n",
       "      <th>3</th>\n",
       "      <td>6</td>\n",
       "      <td>6</td>\n",
       "      <td>2</td>\n",
       "      <td>0</td>\n",
       "      <td>0</td>\n",
       "      <td>0</td>\n",
       "      <td>0</td>\n",
       "      <td>0</td>\n",
       "      <td>0</td>\n",
       "    </tr>\n",
       "    <tr>\n",
       "      <th>4</th>\n",
       "      <td>9</td>\n",
       "      <td>9</td>\n",
       "      <td>2</td>\n",
       "      <td>0</td>\n",
       "      <td>0</td>\n",
       "      <td>0</td>\n",
       "      <td>0</td>\n",
       "      <td>0</td>\n",
       "      <td>0</td>\n",
       "    </tr>\n",
       "    <tr>\n",
       "      <th>...</th>\n",
       "      <td>...</td>\n",
       "      <td>...</td>\n",
       "      <td>...</td>\n",
       "      <td>...</td>\n",
       "      <td>...</td>\n",
       "      <td>...</td>\n",
       "      <td>...</td>\n",
       "      <td>...</td>\n",
       "      <td>...</td>\n",
       "    </tr>\n",
       "    <tr>\n",
       "      <th>524841</th>\n",
       "      <td>782</td>\n",
       "      <td>327</td>\n",
       "      <td>301</td>\n",
       "      <td>2</td>\n",
       "      <td>2</td>\n",
       "      <td>2</td>\n",
       "      <td>52</td>\n",
       "      <td>1</td>\n",
       "      <td>0</td>\n",
       "    </tr>\n",
       "    <tr>\n",
       "      <th>524842</th>\n",
       "      <td>36</td>\n",
       "      <td>30</td>\n",
       "      <td>11</td>\n",
       "      <td>0</td>\n",
       "      <td>0</td>\n",
       "      <td>0</td>\n",
       "      <td>4</td>\n",
       "      <td>0</td>\n",
       "      <td>1</td>\n",
       "    </tr>\n",
       "    <tr>\n",
       "      <th>524843</th>\n",
       "      <td>61</td>\n",
       "      <td>46</td>\n",
       "      <td>11</td>\n",
       "      <td>0</td>\n",
       "      <td>0</td>\n",
       "      <td>0</td>\n",
       "      <td>3</td>\n",
       "      <td>0</td>\n",
       "      <td>0</td>\n",
       "    </tr>\n",
       "    <tr>\n",
       "      <th>524844</th>\n",
       "      <td>213</td>\n",
       "      <td>136</td>\n",
       "      <td>89</td>\n",
       "      <td>0</td>\n",
       "      <td>0</td>\n",
       "      <td>0</td>\n",
       "      <td>18</td>\n",
       "      <td>0</td>\n",
       "      <td>0</td>\n",
       "    </tr>\n",
       "    <tr>\n",
       "      <th>524845</th>\n",
       "      <td>26</td>\n",
       "      <td>24</td>\n",
       "      <td>3</td>\n",
       "      <td>0</td>\n",
       "      <td>0</td>\n",
       "      <td>0</td>\n",
       "      <td>2</td>\n",
       "      <td>0</td>\n",
       "      <td>0</td>\n",
       "    </tr>\n",
       "  </tbody>\n",
       "</table>\n",
       "<p>524846 rows × 9 columns</p>\n",
       "</div>"
      ],
      "text/plain": [
       "        num_words  num_unique_words  num_stopwords  num_links  \\\n",
       "0             140                94             52          0   \n",
       "1               5                 5              1          0   \n",
       "2              34                32             15          0   \n",
       "3               6                 6              2          0   \n",
       "4               9                 9              2          0   \n",
       "...           ...               ...            ...        ...   \n",
       "524841        782               327            301          2   \n",
       "524842         36                30             11          0   \n",
       "524843         61                46             11          0   \n",
       "524844        213               136             89          0   \n",
       "524845         26                24              3          0   \n",
       "\n",
       "        num_unique_domains  num_email_addresses  num_spelling_errors  \\\n",
       "0                        0                    0                    0   \n",
       "1                        0                    0                    0   \n",
       "2                        0                    0                    0   \n",
       "3                        0                    0                    0   \n",
       "4                        0                    0                    0   \n",
       "...                    ...                  ...                  ...   \n",
       "524841                   2                    2                   52   \n",
       "524842                   0                    0                    4   \n",
       "524843                   0                    0                    3   \n",
       "524844                   0                    0                   18   \n",
       "524845                   0                    0                    2   \n",
       "\n",
       "        num_urgent_keywords  label  \n",
       "0                         0      0  \n",
       "1                         0      0  \n",
       "2                         0      0  \n",
       "3                         0      0  \n",
       "4                         0      0  \n",
       "...                     ...    ...  \n",
       "524841                    1      0  \n",
       "524842                    0      1  \n",
       "524843                    0      0  \n",
       "524844                    0      0  \n",
       "524845                    0      0  \n",
       "\n",
       "[524846 rows x 9 columns]"
      ]
     },
     "execution_count": 26,
     "metadata": {},
     "output_type": "execute_result"
    }
   ],
   "source": [
    "dataset = pd.read_csv(\"email_phishing_data.csv\")\n",
    "dataset"
   ]
  },
  {
   "cell_type": "markdown",
   "id": "b5f141c4",
   "metadata": {},
   "source": [
    "# Explorando os dados"
   ]
  },
  {
   "cell_type": "code",
   "execution_count": null,
   "id": "e492b4a4",
   "metadata": {},
   "outputs": [],
   "source": [
    "import matplotlib.pyplot as plt\n",
    "import seaborn as sns"
   ]
  },
  {
   "cell_type": "markdown",
   "id": "fb06ce1e",
   "metadata": {},
   "source": [
    "## Descrição dos dados:"
   ]
  },
  {
   "cell_type": "code",
   "execution_count": 41,
   "id": "a59e8997",
   "metadata": {},
   "outputs": [
    {
     "data": {
      "text/html": [
       "<div>\n",
       "<style scoped>\n",
       "    .dataframe tbody tr th:only-of-type {\n",
       "        vertical-align: middle;\n",
       "    }\n",
       "\n",
       "    .dataframe tbody tr th {\n",
       "        vertical-align: top;\n",
       "    }\n",
       "\n",
       "    .dataframe thead th {\n",
       "        text-align: right;\n",
       "    }\n",
       "</style>\n",
       "<table border=\"1\" class=\"dataframe\">\n",
       "  <thead>\n",
       "    <tr style=\"text-align: right;\">\n",
       "      <th></th>\n",
       "      <th>num_words</th>\n",
       "      <th>num_unique_words</th>\n",
       "      <th>num_stopwords</th>\n",
       "      <th>num_links</th>\n",
       "      <th>num_unique_domains</th>\n",
       "      <th>num_email_addresses</th>\n",
       "      <th>num_spelling_errors</th>\n",
       "      <th>num_urgent_keywords</th>\n",
       "      <th>label</th>\n",
       "    </tr>\n",
       "  </thead>\n",
       "  <tbody>\n",
       "    <tr>\n",
       "      <th>count</th>\n",
       "      <td>524845.00</td>\n",
       "      <td>524845.00</td>\n",
       "      <td>524845.00</td>\n",
       "      <td>524845.00</td>\n",
       "      <td>524845.00</td>\n",
       "      <td>524845.00</td>\n",
       "      <td>524845.00</td>\n",
       "      <td>524845.00</td>\n",
       "      <td>524845.00</td>\n",
       "    </tr>\n",
       "    <tr>\n",
       "      <th>mean</th>\n",
       "      <td>271.77</td>\n",
       "      <td>122.91</td>\n",
       "      <td>78.67</td>\n",
       "      <td>0.90</td>\n",
       "      <td>0.35</td>\n",
       "      <td>2.11</td>\n",
       "      <td>24.33</td>\n",
       "      <td>0.25</td>\n",
       "      <td>0.01</td>\n",
       "    </tr>\n",
       "    <tr>\n",
       "      <th>std</th>\n",
       "      <td>835.32</td>\n",
       "      <td>188.87</td>\n",
       "      <td>242.02</td>\n",
       "      <td>5.60</td>\n",
       "      <td>1.77</td>\n",
       "      <td>13.59</td>\n",
       "      <td>167.56</td>\n",
       "      <td>0.56</td>\n",
       "      <td>0.11</td>\n",
       "    </tr>\n",
       "    <tr>\n",
       "      <th>min</th>\n",
       "      <td>0.00</td>\n",
       "      <td>0.00</td>\n",
       "      <td>0.00</td>\n",
       "      <td>0.00</td>\n",
       "      <td>0.00</td>\n",
       "      <td>0.00</td>\n",
       "      <td>0.00</td>\n",
       "      <td>0.00</td>\n",
       "      <td>0.00</td>\n",
       "    </tr>\n",
       "    <tr>\n",
       "      <th>25%</th>\n",
       "      <td>47.00</td>\n",
       "      <td>38.00</td>\n",
       "      <td>12.00</td>\n",
       "      <td>0.00</td>\n",
       "      <td>0.00</td>\n",
       "      <td>0.00</td>\n",
       "      <td>2.00</td>\n",
       "      <td>0.00</td>\n",
       "      <td>0.00</td>\n",
       "    </tr>\n",
       "    <tr>\n",
       "      <th>50%</th>\n",
       "      <td>120.00</td>\n",
       "      <td>79.00</td>\n",
       "      <td>34.00</td>\n",
       "      <td>0.00</td>\n",
       "      <td>0.00</td>\n",
       "      <td>0.00</td>\n",
       "      <td>8.00</td>\n",
       "      <td>0.00</td>\n",
       "      <td>0.00</td>\n",
       "    </tr>\n",
       "    <tr>\n",
       "      <th>75%</th>\n",
       "      <td>269.00</td>\n",
       "      <td>145.00</td>\n",
       "      <td>79.00</td>\n",
       "      <td>0.00</td>\n",
       "      <td>0.00</td>\n",
       "      <td>1.00</td>\n",
       "      <td>22.00</td>\n",
       "      <td>0.00</td>\n",
       "      <td>0.00</td>\n",
       "    </tr>\n",
       "    <tr>\n",
       "      <th>max</th>\n",
       "      <td>103407.00</td>\n",
       "      <td>13986.00</td>\n",
       "      <td>18904.00</td>\n",
       "      <td>824.00</td>\n",
       "      <td>524.00</td>\n",
       "      <td>1150.00</td>\n",
       "      <td>77167.00</td>\n",
       "      <td>6.00</td>\n",
       "      <td>1.00</td>\n",
       "    </tr>\n",
       "  </tbody>\n",
       "</table>\n",
       "</div>"
      ],
      "text/plain": [
       "       num_words  num_unique_words  num_stopwords  num_links  \\\n",
       "count  524845.00         524845.00      524845.00  524845.00   \n",
       "mean      271.77            122.91          78.67       0.90   \n",
       "std       835.32            188.87         242.02       5.60   \n",
       "min         0.00              0.00           0.00       0.00   \n",
       "25%        47.00             38.00          12.00       0.00   \n",
       "50%       120.00             79.00          34.00       0.00   \n",
       "75%       269.00            145.00          79.00       0.00   \n",
       "max    103407.00          13986.00       18904.00     824.00   \n",
       "\n",
       "       num_unique_domains  num_email_addresses  num_spelling_errors  \\\n",
       "count           524845.00            524845.00            524845.00   \n",
       "mean                 0.35                 2.11                24.33   \n",
       "std                  1.77                13.59               167.56   \n",
       "min                  0.00                 0.00                 0.00   \n",
       "25%                  0.00                 0.00                 2.00   \n",
       "50%                  0.00                 0.00                 8.00   \n",
       "75%                  0.00                 1.00                22.00   \n",
       "max                524.00              1150.00             77167.00   \n",
       "\n",
       "       num_urgent_keywords     label  \n",
       "count            524845.00 524845.00  \n",
       "mean                  0.25      0.01  \n",
       "std                   0.56      0.11  \n",
       "min                   0.00      0.00  \n",
       "25%                   0.00      0.00  \n",
       "50%                   0.00      0.00  \n",
       "75%                   0.00      0.00  \n",
       "max                   6.00      1.00  "
      ]
     },
     "execution_count": 41,
     "metadata": {},
     "output_type": "execute_result"
    }
   ],
   "source": [
    "pd.set_option('display.float_format', '{:.2f}'.format)\n",
    "dataset.describe()"
   ]
  },
  {
   "cell_type": "markdown",
   "id": "85a037e7",
   "metadata": {},
   "source": [
    "Como é possível observar pelo valor de max, existe um outlier com um número muito grande de palavras (mais de 2 milhões), que não faz sentido no contexto analisado. Vejamos a seguir os 10 emails com mais palavras para fazer uma comparação:"
   ]
  },
  {
   "cell_type": "code",
   "execution_count": 42,
   "id": "05f85493",
   "metadata": {},
   "outputs": [
    {
     "data": {
      "text/plain": [
       "111750    103407\n",
       "357879    101796\n",
       "316618     63501\n",
       "316072     55145\n",
       "316615     49961\n",
       "316164     46124\n",
       "316178     45654\n",
       "254930     42844\n",
       "74046      41250\n",
       "54780      41250\n",
       "Name: num_words, dtype: int64"
      ]
     },
     "execution_count": 42,
     "metadata": {},
     "output_type": "execute_result"
    }
   ],
   "source": [
    "dataset['num_words'].sort_values(ascending=False).head(10)"
   ]
  },
  {
   "cell_type": "markdown",
   "id": "a08603bb",
   "metadata": {},
   "source": [
    "Mesmo o segundo email com mais palavras tem uma diferença muito grande com relação ao primeiro, o que indica que este é, muito provavelmente, um erro. Logo, vamos excluí-lo do conjunto de dados para que o modelo não seja prejudicado:"
   ]
  },
  {
   "cell_type": "code",
   "execution_count": 43,
   "id": "7a531fbb",
   "metadata": {},
   "outputs": [],
   "source": [
    "idx_max  = dataset['num_words'].idxmax()\n",
    "dataset = dataset.drop(index=idx_max)"
   ]
  },
  {
   "cell_type": "markdown",
   "id": "fd63d54a",
   "metadata": {},
   "source": [
    "Agora, temos o seguinte:"
   ]
  },
  {
   "cell_type": "code",
   "execution_count": 45,
   "id": "8c04cc68",
   "metadata": {},
   "outputs": [
    {
     "data": {
      "text/html": [
       "<div>\n",
       "<style scoped>\n",
       "    .dataframe tbody tr th:only-of-type {\n",
       "        vertical-align: middle;\n",
       "    }\n",
       "\n",
       "    .dataframe tbody tr th {\n",
       "        vertical-align: top;\n",
       "    }\n",
       "\n",
       "    .dataframe thead th {\n",
       "        text-align: right;\n",
       "    }\n",
       "</style>\n",
       "<table border=\"1\" class=\"dataframe\">\n",
       "  <thead>\n",
       "    <tr style=\"text-align: right;\">\n",
       "      <th></th>\n",
       "      <th>num_words</th>\n",
       "      <th>num_unique_words</th>\n",
       "      <th>num_stopwords</th>\n",
       "      <th>num_links</th>\n",
       "      <th>num_unique_domains</th>\n",
       "      <th>num_email_addresses</th>\n",
       "      <th>num_spelling_errors</th>\n",
       "      <th>num_urgent_keywords</th>\n",
       "      <th>label</th>\n",
       "    </tr>\n",
       "  </thead>\n",
       "  <tbody>\n",
       "    <tr>\n",
       "      <th>count</th>\n",
       "      <td>524844.00</td>\n",
       "      <td>524844.00</td>\n",
       "      <td>524844.00</td>\n",
       "      <td>524844.00</td>\n",
       "      <td>524844.00</td>\n",
       "      <td>524844.00</td>\n",
       "      <td>524844.00</td>\n",
       "      <td>524844.00</td>\n",
       "      <td>524844.00</td>\n",
       "    </tr>\n",
       "    <tr>\n",
       "      <th>mean</th>\n",
       "      <td>271.57</td>\n",
       "      <td>122.91</td>\n",
       "      <td>78.67</td>\n",
       "      <td>0.90</td>\n",
       "      <td>0.35</td>\n",
       "      <td>2.11</td>\n",
       "      <td>24.19</td>\n",
       "      <td>0.25</td>\n",
       "      <td>0.01</td>\n",
       "    </tr>\n",
       "    <tr>\n",
       "      <th>std</th>\n",
       "      <td>823.10</td>\n",
       "      <td>188.87</td>\n",
       "      <td>242.02</td>\n",
       "      <td>5.60</td>\n",
       "      <td>1.77</td>\n",
       "      <td>13.59</td>\n",
       "      <td>129.37</td>\n",
       "      <td>0.56</td>\n",
       "      <td>0.11</td>\n",
       "    </tr>\n",
       "    <tr>\n",
       "      <th>min</th>\n",
       "      <td>0.00</td>\n",
       "      <td>0.00</td>\n",
       "      <td>0.00</td>\n",
       "      <td>0.00</td>\n",
       "      <td>0.00</td>\n",
       "      <td>0.00</td>\n",
       "      <td>0.00</td>\n",
       "      <td>0.00</td>\n",
       "      <td>0.00</td>\n",
       "    </tr>\n",
       "    <tr>\n",
       "      <th>25%</th>\n",
       "      <td>47.00</td>\n",
       "      <td>38.00</td>\n",
       "      <td>12.00</td>\n",
       "      <td>0.00</td>\n",
       "      <td>0.00</td>\n",
       "      <td>0.00</td>\n",
       "      <td>2.00</td>\n",
       "      <td>0.00</td>\n",
       "      <td>0.00</td>\n",
       "    </tr>\n",
       "    <tr>\n",
       "      <th>50%</th>\n",
       "      <td>120.00</td>\n",
       "      <td>79.00</td>\n",
       "      <td>34.00</td>\n",
       "      <td>0.00</td>\n",
       "      <td>0.00</td>\n",
       "      <td>0.00</td>\n",
       "      <td>8.00</td>\n",
       "      <td>0.00</td>\n",
       "      <td>0.00</td>\n",
       "    </tr>\n",
       "    <tr>\n",
       "      <th>75%</th>\n",
       "      <td>269.00</td>\n",
       "      <td>145.00</td>\n",
       "      <td>79.00</td>\n",
       "      <td>0.00</td>\n",
       "      <td>0.00</td>\n",
       "      <td>1.00</td>\n",
       "      <td>22.00</td>\n",
       "      <td>0.00</td>\n",
       "      <td>0.00</td>\n",
       "    </tr>\n",
       "    <tr>\n",
       "      <th>max</th>\n",
       "      <td>101796.00</td>\n",
       "      <td>13986.00</td>\n",
       "      <td>18904.00</td>\n",
       "      <td>824.00</td>\n",
       "      <td>524.00</td>\n",
       "      <td>1150.00</td>\n",
       "      <td>69007.00</td>\n",
       "      <td>6.00</td>\n",
       "      <td>1.00</td>\n",
       "    </tr>\n",
       "  </tbody>\n",
       "</table>\n",
       "</div>"
      ],
      "text/plain": [
       "       num_words  num_unique_words  num_stopwords  num_links  \\\n",
       "count  524844.00         524844.00      524844.00  524844.00   \n",
       "mean      271.57            122.91          78.67       0.90   \n",
       "std       823.10            188.87         242.02       5.60   \n",
       "min         0.00              0.00           0.00       0.00   \n",
       "25%        47.00             38.00          12.00       0.00   \n",
       "50%       120.00             79.00          34.00       0.00   \n",
       "75%       269.00            145.00          79.00       0.00   \n",
       "max    101796.00          13986.00       18904.00     824.00   \n",
       "\n",
       "       num_unique_domains  num_email_addresses  num_spelling_errors  \\\n",
       "count           524844.00            524844.00            524844.00   \n",
       "mean                 0.35                 2.11                24.19   \n",
       "std                  1.77                13.59               129.37   \n",
       "min                  0.00                 0.00                 0.00   \n",
       "25%                  0.00                 0.00                 2.00   \n",
       "50%                  0.00                 0.00                 8.00   \n",
       "75%                  0.00                 1.00                22.00   \n",
       "max                524.00              1150.00             69007.00   \n",
       "\n",
       "       num_urgent_keywords     label  \n",
       "count            524844.00 524844.00  \n",
       "mean                  0.25      0.01  \n",
       "std                   0.56      0.11  \n",
       "min                   0.00      0.00  \n",
       "25%                   0.00      0.00  \n",
       "50%                   0.00      0.00  \n",
       "75%                   0.00      0.00  \n",
       "max                   6.00      1.00  "
      ]
     },
     "execution_count": 45,
     "metadata": {},
     "output_type": "execute_result"
    }
   ],
   "source": [
    "dataset.describe()"
   ]
  },
  {
   "cell_type": "markdown",
   "id": "564de938",
   "metadata": {},
   "source": [
    "## Tipos de dados:"
   ]
  },
  {
   "cell_type": "code",
   "execution_count": 32,
   "id": "85deee36",
   "metadata": {},
   "outputs": [
    {
     "data": {
      "text/plain": [
       "num_words              int64\n",
       "num_unique_words       int64\n",
       "num_stopwords          int64\n",
       "num_links              int64\n",
       "num_unique_domains     int64\n",
       "num_email_addresses    int64\n",
       "num_spelling_errors    int64\n",
       "num_urgent_keywords    int64\n",
       "label                  int64\n",
       "dtype: object"
      ]
     },
     "execution_count": 32,
     "metadata": {},
     "output_type": "execute_result"
    }
   ],
   "source": [
    "dataset.dtypes"
   ]
  },
  {
   "cell_type": "markdown",
   "id": "5d376fd3",
   "metadata": {},
   "source": [
    "O fato de serem todos atributos numéricos facilita a análise e construção dos modelos, já que não será necessário converter atributos categóricos para numéricos."
   ]
  },
  {
   "cell_type": "markdown",
   "id": "29c6605e",
   "metadata": {},
   "source": [
    "## Verificação de desbalanceamento"
   ]
  },
  {
   "cell_type": "code",
   "execution_count": 33,
   "id": "edd191df",
   "metadata": {},
   "outputs": [
    {
     "data": {
      "image/png": "[encoded data removed]",
      "text/plain": [
       "<Figure size 1500x1000 with 1 Axes>"
      ]
     },
     "metadata": {},
     "output_type": "display_data"
    }
   ],
   "source": [
    "plt.figure(figsize=(15, 10))\n",
    "\n",
    "sns.countplot(x='label', data=dataset)\n",
    "plt.title('Distribution of Phishing and Normal Emails')\n",
    "\n",
    "plt.xlabel('Label')\n",
    "plt.ylabel('Count')\n",
    "plt.xticks([0, 1], ['Normal', 'Phishing'])\n",
    "plt.show()"
   ]
  },
  {
   "cell_type": "code",
   "execution_count": 34,
   "id": "0bee75b5",
   "metadata": {},
   "outputs": [
    {
     "name": "stdout",
     "output_type": "stream",
     "text": [
      "Emails normais: 517896\n",
      "Emails de phishing: 6949\n",
      "label\n",
      "0   98.68\n",
      "1    1.32\n",
      "Name: proportion, dtype: float64\n"
     ]
    }
   ],
   "source": [
    "counts = dataset['label'].value_counts()\n",
    "print(f\"Emails normais: {counts[0]}\")\n",
    "print(f\"Emails de phishing: {counts[1]}\")\n",
    "print(dataset['label'].value_counts(normalize=True) * 100)"
   ]
  },
  {
   "cell_type": "markdown",
   "id": "6123f197",
   "metadata": {},
   "source": [
    "Percebe-se que os dados estão bastante desbalanceados, com apenas pouco mais de 1% pertencendo à classe \"Phishing\". Para que os modelos possam ser treinados corretamente, devemos balancear esses dados, o que pode ser feito tanto por undersampling (reduzindo a classe majoritária) ou oversampling (aumentando a classe minoritária). No nosso caso, escolheremos o método de undersampling para o overfitting de dados que seria causada pelo oversampling."
   ]
  },
  {
   "cell_type": "code",
   "execution_count": 35,
   "id": "21815637",
   "metadata": {},
   "outputs": [
    {
     "name": "stdout",
     "output_type": "stream",
     "text": [
      "Emails normais: 517896\n",
      "Emails de phishing: 6949\n"
     ]
    },
    {
     "data": {
      "image/png": "[encoded data removed]",
      "text/plain": [
       "<Figure size 1500x1000 with 1 Axes>"
      ]
     },
     "metadata": {},
     "output_type": "display_data"
    }
   ],
   "source": [
    "normal_emails = dataset[dataset['label'] == 0]\n",
    "phishing_emails = dataset[dataset['label'] == 1]\n",
    "print(f\"Emails normais: {len(normal_emails)}\")\n",
    "print(f\"Emails de phishing: {len(phishing_emails)}\")\n",
    "\n",
    "# balancea os dois conjuntos\n",
    "normal_emails_balanced = normal_emails.sample(len(phishing_emails), random_state=42)\n",
    "\n",
    "# Junta os conjuntos balanceados e embaralha os valores \n",
    "balanced_dataset = pd.concat([normal_emails_balanced, phishing_emails]).sample(frac=1, random_state=42).reset_index(drop=True)\n",
    "\n",
    "plt.figure(figsize=(15, 10))\n",
    "sns.countplot(x='label', data=balanced_dataset)\n",
    "plt.title('Distribution of Phishing and Normal Emails')\n",
    "plt.xlabel('Label')\n",
    "plt.ylabel('Count')\n",
    "plt.xticks([0, 1], ['Normal', 'Phishing'])\n",
    "plt.show()"
   ]
  },
  {
   "cell_type": "markdown",
   "id": "dccb080f",
   "metadata": {},
   "source": [
    "# Testando métodos"
   ]
  },
  {
   "cell_type": "code",
   "execution_count": 36,
   "id": "9c10bdab",
   "metadata": {},
   "outputs": [],
   "source": [
    "from sklearn.model_selection import cross_val_score, StratifiedKFold, train_test_split\n",
    "from sklearn.preprocessing import StandardScaler\n",
    "from sklearn.pipeline import Pipeline"
   ]
  },
  {
   "cell_type": "code",
   "execution_count": 37,
   "id": "9d476c2a",
   "metadata": {},
   "outputs": [],
   "source": [
    "# Define o k-fold\n",
    "cv = StratifiedKFold(n_splits=5, shuffle=True, random_state=42)\n",
    "\n",
    "# Split de dados de treino e teste\n",
    "# 80% treino e 20% teste\n",
    "X_train, X_test, y_train, y_test = train_test_split(balanced_dataset.drop(columns=['label']), balanced_dataset['label'], test_size=0.2, random_state=42)"
   ]
  },
  {
   "cell_type": "code",
   "execution_count": 38,
   "id": "8dc022fd",
   "metadata": {},
   "outputs": [
    {
     "name": "stdout",
     "output_type": "stream",
     "text": [
      "KNN F1 Score (média): 0.7492\n"
     ]
    }
   ],
   "source": [
    "from sklearn.neighbors import KNeighborsClassifier\n",
    "\n",
    "knn_pipeline = Pipeline([\n",
    "    ('scaler', StandardScaler()),\n",
    "    ('knn', KNeighborsClassifier(n_neighbors=5))\n",
    "])\n",
    "\n",
    "scores = cross_val_score(knn_pipeline, X_train, y_train, cv=cv, scoring='f1')\n",
    "print(f'KNN F1 Score (média): {scores.mean():.4f}')"
   ]
  },
  {
   "cell_type": "code",
   "execution_count": 39,
   "id": "4fabe4f5",
   "metadata": {},
   "outputs": [
    {
     "name": "stdout",
     "output_type": "stream",
     "text": [
      "Logistic Regression F1 Score (média): 0.6875\n"
     ]
    }
   ],
   "source": [
    "from sklearn.linear_model import LogisticRegression\n",
    "\n",
    "logreg_pipeline = Pipeline([\n",
    "    ('scaler', StandardScaler()),\n",
    "    ('logreg', LogisticRegression(max_iter=1000))\n",
    "])\n",
    "\n",
    "scores = cross_val_score(logreg_pipeline, X_train, y_train, cv=cv, scoring='f1')\n",
    "print(f'Logistic Regression F1 Score (média): {scores.mean():.4f}')\n"
   ]
  },
  {
   "cell_type": "code",
   "execution_count": 40,
   "id": "e4c16fde",
   "metadata": {},
   "outputs": [
    {
     "name": "stdout",
     "output_type": "stream",
     "text": [
      "Random Forest F1 Score (média): 0.7836\n"
     ]
    }
   ],
   "source": [
    "from sklearn.ensemble import RandomForestClassifier\n",
    "rf = RandomForestClassifier(n_estimators=100, random_state=42)\n",
    "scores = cross_val_score(rf, X_train, y_train, cv=cv, scoring='f1')\n",
    "\n",
    "print(f'Random Forest F1 Score (média): {scores.mean():.4f}')"
   ]
  }
 ],
 "metadata": {
  "kernelspec": {
   "display_name": "Python 3",
   "language": "python",
   "name": "python3"
  },
  "language_info": {
   "codemirror_mode": {
    "name": "ipython",
    "version": 3
   },
   "file_extension": ".py",
   "mimetype": "text/x-python",
   "name": "python",
   "nbconvert_exporter": "python",
   "pygments_lexer": "ipython3",
   "version": "3.12.3"
  }
 },
 "nbformat": 4,
 "nbformat_minor": 5
}
