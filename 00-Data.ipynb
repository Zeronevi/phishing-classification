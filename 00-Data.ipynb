{
 "cells": [
  {
   "cell_type": "markdown",
   "id": "44b23690",
   "metadata": {},
   "source": [
    "\n",
    "**Dataset**: https://www.kaggle.com/datasets/ethancratchley/email-phishing-dataset"
   ]
  },
  {
   "cell_type": "markdown",
   "id": "4df4a739",
   "metadata": {},
   "source": [
    "Loading The Dataset"
   ]
  },
  {
   "cell_type": "code",
   "execution_count": 12,
   "id": "f3b9300c",
   "metadata": {},
   "outputs": [],
   "source": [
    "import pandas as pd"
   ]
  },
  {
   "cell_type": "code",
   "execution_count": 13,
   "id": "40471dc3",
   "metadata": {},
   "outputs": [
    {
     "data": {
      "text/html": [
       "<div>\n",
       "<style scoped>\n",
       "    .dataframe tbody tr th:only-of-type {\n",
       "        vertical-align: middle;\n",
       "    }\n",
       "\n",
       "    .dataframe tbody tr th {\n",
       "        vertical-align: top;\n",
       "    }\n",
       "\n",
       "    .dataframe thead th {\n",
       "        text-align: right;\n",
       "    }\n",
       "</style>\n",
       "<table border=\"1\" class=\"dataframe\">\n",
       "  <thead>\n",
       "    <tr style=\"text-align: right;\">\n",
       "      <th></th>\n",
       "      <th>num_words</th>\n",
       "      <th>num_unique_words</th>\n",
       "      <th>num_stopwords</th>\n",
       "      <th>num_links</th>\n",
       "      <th>num_unique_domains</th>\n",
       "      <th>num_email_addresses</th>\n",
       "      <th>num_spelling_errors</th>\n",
       "      <th>num_urgent_keywords</th>\n",
       "      <th>label</th>\n",
       "    </tr>\n",
       "  </thead>\n",
       "  <tbody>\n",
       "    <tr>\n",
       "      <th>0</th>\n",
       "      <td>140</td>\n",
       "      <td>94</td>\n",
       "      <td>52</td>\n",
       "      <td>0</td>\n",
       "      <td>0</td>\n",
       "      <td>0</td>\n",
       "      <td>0</td>\n",
       "      <td>0</td>\n",
       "      <td>0</td>\n",
       "    </tr>\n",
       "    <tr>\n",
       "      <th>1</th>\n",
       "      <td>5</td>\n",
       "      <td>5</td>\n",
       "      <td>1</td>\n",
       "      <td>0</td>\n",
       "      <td>0</td>\n",
       "      <td>0</td>\n",
       "      <td>0</td>\n",
       "      <td>0</td>\n",
       "      <td>0</td>\n",
       "    </tr>\n",
       "    <tr>\n",
       "      <th>2</th>\n",
       "      <td>34</td>\n",
       "      <td>32</td>\n",
       "      <td>15</td>\n",
       "      <td>0</td>\n",
       "      <td>0</td>\n",
       "      <td>0</td>\n",
       "      <td>0</td>\n",
       "      <td>0</td>\n",
       "      <td>0</td>\n",
       "    </tr>\n",
       "    <tr>\n",
       "      <th>3</th>\n",
       "      <td>6</td>\n",
       "      <td>6</td>\n",
       "      <td>2</td>\n",
       "      <td>0</td>\n",
       "      <td>0</td>\n",
       "      <td>0</td>\n",
       "      <td>0</td>\n",
       "      <td>0</td>\n",
       "      <td>0</td>\n",
       "    </tr>\n",
       "    <tr>\n",
       "      <th>4</th>\n",
       "      <td>9</td>\n",
       "      <td>9</td>\n",
       "      <td>2</td>\n",
       "      <td>0</td>\n",
       "      <td>0</td>\n",
       "      <td>0</td>\n",
       "      <td>0</td>\n",
       "      <td>0</td>\n",
       "      <td>0</td>\n",
       "    </tr>\n",
       "    <tr>\n",
       "      <th>...</th>\n",
       "      <td>...</td>\n",
       "      <td>...</td>\n",
       "      <td>...</td>\n",
       "      <td>...</td>\n",
       "      <td>...</td>\n",
       "      <td>...</td>\n",
       "      <td>...</td>\n",
       "      <td>...</td>\n",
       "      <td>...</td>\n",
       "    </tr>\n",
       "    <tr>\n",
       "      <th>524841</th>\n",
       "      <td>782</td>\n",
       "      <td>327</td>\n",
       "      <td>301</td>\n",
       "      <td>2</td>\n",
       "      <td>2</td>\n",
       "      <td>2</td>\n",
       "      <td>52</td>\n",
       "      <td>1</td>\n",
       "      <td>0</td>\n",
       "    </tr>\n",
       "    <tr>\n",
       "      <th>524842</th>\n",
       "      <td>36</td>\n",
       "      <td>30</td>\n",
       "      <td>11</td>\n",
       "      <td>0</td>\n",
       "      <td>0</td>\n",
       "      <td>0</td>\n",
       "      <td>4</td>\n",
       "      <td>0</td>\n",
       "      <td>1</td>\n",
       "    </tr>\n",
       "    <tr>\n",
       "      <th>524843</th>\n",
       "      <td>61</td>\n",
       "      <td>46</td>\n",
       "      <td>11</td>\n",
       "      <td>0</td>\n",
       "      <td>0</td>\n",
       "      <td>0</td>\n",
       "      <td>3</td>\n",
       "      <td>0</td>\n",
       "      <td>0</td>\n",
       "    </tr>\n",
       "    <tr>\n",
       "      <th>524844</th>\n",
       "      <td>213</td>\n",
       "      <td>136</td>\n",
       "      <td>89</td>\n",
       "      <td>0</td>\n",
       "      <td>0</td>\n",
       "      <td>0</td>\n",
       "      <td>18</td>\n",
       "      <td>0</td>\n",
       "      <td>0</td>\n",
       "    </tr>\n",
       "    <tr>\n",
       "      <th>524845</th>\n",
       "      <td>26</td>\n",
       "      <td>24</td>\n",
       "      <td>3</td>\n",
       "      <td>0</td>\n",
       "      <td>0</td>\n",
       "      <td>0</td>\n",
       "      <td>2</td>\n",
       "      <td>0</td>\n",
       "      <td>0</td>\n",
       "    </tr>\n",
       "  </tbody>\n",
       "</table>\n",
       "<p>524846 rows × 9 columns</p>\n",
       "</div>"
      ],
      "text/plain": [
       "        num_words  num_unique_words  num_stopwords  num_links  \\\n",
       "0             140                94             52          0   \n",
       "1               5                 5              1          0   \n",
       "2              34                32             15          0   \n",
       "3               6                 6              2          0   \n",
       "4               9                 9              2          0   \n",
       "...           ...               ...            ...        ...   \n",
       "524841        782               327            301          2   \n",
       "524842         36                30             11          0   \n",
       "524843         61                46             11          0   \n",
       "524844        213               136             89          0   \n",
       "524845         26                24              3          0   \n",
       "\n",
       "        num_unique_domains  num_email_addresses  num_spelling_errors  \\\n",
       "0                        0                    0                    0   \n",
       "1                        0                    0                    0   \n",
       "2                        0                    0                    0   \n",
       "3                        0                    0                    0   \n",
       "4                        0                    0                    0   \n",
       "...                    ...                  ...                  ...   \n",
       "524841                   2                    2                   52   \n",
       "524842                   0                    0                    4   \n",
       "524843                   0                    0                    3   \n",
       "524844                   0                    0                   18   \n",
       "524845                   0                    0                    2   \n",
       "\n",
       "        num_urgent_keywords  label  \n",
       "0                         0      0  \n",
       "1                         0      0  \n",
       "2                         0      0  \n",
       "3                         0      0  \n",
       "4                         0      0  \n",
       "...                     ...    ...  \n",
       "524841                    1      0  \n",
       "524842                    0      1  \n",
       "524843                    0      0  \n",
       "524844                    0      0  \n",
       "524845                    0      0  \n",
       "\n",
       "[524846 rows x 9 columns]"
      ]
     },
     "execution_count": 13,
     "metadata": {},
     "output_type": "execute_result"
    }
   ],
   "source": [
    "dataset = pd.read_csv(\"email_phishing_data.csv\")\n",
    "dataset"
   ]
  },
  {
   "cell_type": "markdown",
   "id": "b5f141c4",
   "metadata": {},
   "source": [
    "# Explorando os dados"
   ]
  },
  {
   "cell_type": "code",
   "execution_count": 14,
   "id": "e492b4a4",
   "metadata": {},
   "outputs": [],
   "source": [
    "import matplotlib.pyplot as plt\n",
    "import seaborn as sns"
   ]
  },
  {
   "cell_type": "code",
   "execution_count": 15,
   "id": "06ead489",
   "metadata": {},
   "outputs": [],
   "source": [
    "pd.set_option('display.float_format', '{:.2f}'.format)"
   ]
  },
  {
   "cell_type": "markdown",
   "id": "fb06ce1e",
   "metadata": {},
   "source": [
    "## Descrição dos dados:"
   ]
  },
  {
   "cell_type": "code",
   "execution_count": 16,
   "id": "a59e8997",
   "metadata": {},
   "outputs": [
    {
     "data": {
      "text/html": [
       "<div>\n",
       "<style scoped>\n",
       "    .dataframe tbody tr th:only-of-type {\n",
       "        vertical-align: middle;\n",
       "    }\n",
       "\n",
       "    .dataframe tbody tr th {\n",
       "        vertical-align: top;\n",
       "    }\n",
       "\n",
       "    .dataframe thead th {\n",
       "        text-align: right;\n",
       "    }\n",
       "</style>\n",
       "<table border=\"1\" class=\"dataframe\">\n",
       "  <thead>\n",
       "    <tr style=\"text-align: right;\">\n",
       "      <th></th>\n",
       "      <th>num_words</th>\n",
       "      <th>num_unique_words</th>\n",
       "      <th>num_stopwords</th>\n",
       "      <th>num_links</th>\n",
       "      <th>num_unique_domains</th>\n",
       "      <th>num_email_addresses</th>\n",
       "      <th>num_spelling_errors</th>\n",
       "      <th>num_urgent_keywords</th>\n",
       "      <th>label</th>\n",
       "    </tr>\n",
       "  </thead>\n",
       "  <tbody>\n",
       "    <tr>\n",
       "      <th>count</th>\n",
       "      <td>524846.00</td>\n",
       "      <td>524846.00</td>\n",
       "      <td>524846.00</td>\n",
       "      <td>524846.00</td>\n",
       "      <td>524846.00</td>\n",
       "      <td>524846.00</td>\n",
       "      <td>524846.00</td>\n",
       "      <td>524846.00</td>\n",
       "      <td>524846.00</td>\n",
       "    </tr>\n",
       "    <tr>\n",
       "      <th>mean</th>\n",
       "      <td>276.23</td>\n",
       "      <td>123.01</td>\n",
       "      <td>80.05</td>\n",
       "      <td>0.90</td>\n",
       "      <td>0.35</td>\n",
       "      <td>2.11</td>\n",
       "      <td>24.69</td>\n",
       "      <td>0.25</td>\n",
       "      <td>0.01</td>\n",
       "    </tr>\n",
       "    <tr>\n",
       "      <th>std</th>\n",
       "      <td>3335.46</td>\n",
       "      <td>201.63</td>\n",
       "      <td>1023.33</td>\n",
       "      <td>5.60</td>\n",
       "      <td>1.77</td>\n",
       "      <td>13.59</td>\n",
       "      <td>311.31</td>\n",
       "      <td>0.56</td>\n",
       "      <td>0.11</td>\n",
       "    </tr>\n",
       "    <tr>\n",
       "      <th>min</th>\n",
       "      <td>0.00</td>\n",
       "      <td>0.00</td>\n",
       "      <td>0.00</td>\n",
       "      <td>0.00</td>\n",
       "      <td>0.00</td>\n",
       "      <td>0.00</td>\n",
       "      <td>0.00</td>\n",
       "      <td>0.00</td>\n",
       "      <td>0.00</td>\n",
       "    </tr>\n",
       "    <tr>\n",
       "      <th>25%</th>\n",
       "      <td>47.00</td>\n",
       "      <td>38.00</td>\n",
       "      <td>12.00</td>\n",
       "      <td>0.00</td>\n",
       "      <td>0.00</td>\n",
       "      <td>0.00</td>\n",
       "      <td>2.00</td>\n",
       "      <td>0.00</td>\n",
       "      <td>0.00</td>\n",
       "    </tr>\n",
       "    <tr>\n",
       "      <th>50%</th>\n",
       "      <td>120.00</td>\n",
       "      <td>79.00</td>\n",
       "      <td>34.00</td>\n",
       "      <td>0.00</td>\n",
       "      <td>0.00</td>\n",
       "      <td>0.00</td>\n",
       "      <td>8.00</td>\n",
       "      <td>0.00</td>\n",
       "      <td>0.00</td>\n",
       "    </tr>\n",
       "    <tr>\n",
       "      <th>75%</th>\n",
       "      <td>269.00</td>\n",
       "      <td>145.00</td>\n",
       "      <td>79.00</td>\n",
       "      <td>0.00</td>\n",
       "      <td>0.00</td>\n",
       "      <td>1.00</td>\n",
       "      <td>22.00</td>\n",
       "      <td>0.00</td>\n",
       "      <td>0.00</td>\n",
       "    </tr>\n",
       "    <tr>\n",
       "      <th>max</th>\n",
       "      <td>2339682.00</td>\n",
       "      <td>51251.00</td>\n",
       "      <td>720411.00</td>\n",
       "      <td>824.00</td>\n",
       "      <td>524.00</td>\n",
       "      <td>1150.00</td>\n",
       "      <td>190104.00</td>\n",
       "      <td>7.00</td>\n",
       "      <td>1.00</td>\n",
       "    </tr>\n",
       "  </tbody>\n",
       "</table>\n",
       "</div>"
      ],
      "text/plain": [
       "       num_words  num_unique_words  num_stopwords  num_links  \\\n",
       "count  524846.00         524846.00      524846.00  524846.00   \n",
       "mean      276.23            123.01          80.05       0.90   \n",
       "std      3335.46            201.63        1023.33       5.60   \n",
       "min         0.00              0.00           0.00       0.00   \n",
       "25%        47.00             38.00          12.00       0.00   \n",
       "50%       120.00             79.00          34.00       0.00   \n",
       "75%       269.00            145.00          79.00       0.00   \n",
       "max   2339682.00          51251.00      720411.00     824.00   \n",
       "\n",
       "       num_unique_domains  num_email_addresses  num_spelling_errors  \\\n",
       "count           524846.00            524846.00            524846.00   \n",
       "mean                 0.35                 2.11                24.69   \n",
       "std                  1.77                13.59               311.31   \n",
       "min                  0.00                 0.00                 0.00   \n",
       "25%                  0.00                 0.00                 2.00   \n",
       "50%                  0.00                 0.00                 8.00   \n",
       "75%                  0.00                 1.00                22.00   \n",
       "max                524.00              1150.00            190104.00   \n",
       "\n",
       "       num_urgent_keywords     label  \n",
       "count            524846.00 524846.00  \n",
       "mean                  0.25      0.01  \n",
       "std                   0.56      0.11  \n",
       "min                   0.00      0.00  \n",
       "25%                   0.00      0.00  \n",
       "50%                   0.00      0.00  \n",
       "75%                   0.00      0.00  \n",
       "max                   7.00      1.00  "
      ]
     },
     "execution_count": 16,
     "metadata": {},
     "output_type": "execute_result"
    }
   ],
   "source": [
    "dataset.describe()"
   ]
  },
  {
   "cell_type": "markdown",
   "id": "85a037e7",
   "metadata": {},
   "source": [
    "Como é possível observar pelo valor de max, existe um outlier com um número muito grande de palavras (mais de 2 milhões), que não faz sentido no contexto analisado. Vejamos a seguir os 10 emails com mais palavras para fazer uma comparação:"
   ]
  },
  {
   "cell_type": "code",
   "execution_count": 17,
   "id": "05f85493",
   "metadata": {},
   "outputs": [
    {
     "data": {
      "text/plain": [
       "518898    2339682\n",
       "111750     103407\n",
       "357879     101796\n",
       "316618      63501\n",
       "316072      55145\n",
       "316615      49961\n",
       "316164      46124\n",
       "316178      45654\n",
       "254930      42844\n",
       "74046       41250\n",
       "Name: num_words, dtype: int64"
      ]
     },
     "execution_count": 17,
     "metadata": {},
     "output_type": "execute_result"
    }
   ],
   "source": [
    "dataset['num_words'].sort_values(ascending=False).head(10)"
   ]
  },
  {
   "cell_type": "markdown",
   "id": "a08603bb",
   "metadata": {},
   "source": [
    "Mesmo o segundo email com mais palavras tem uma diferença muito grande com relação ao primeiro, o que indica que este é, muito provavelmente, um erro. Logo, vamos excluí-lo do conjunto de dados para que o modelo não seja prejudicado:"
   ]
  },
  {
   "cell_type": "code",
   "execution_count": 18,
   "id": "7a531fbb",
   "metadata": {},
   "outputs": [],
   "source": [
    "idx_max  = dataset['num_words'].idxmax()\n",
    "dataset = dataset.drop(index=idx_max)"
   ]
  },
  {
   "cell_type": "markdown",
   "id": "fd63d54a",
   "metadata": {},
   "source": [
    "Agora, temos o seguinte:"
   ]
  },
  {
   "cell_type": "code",
   "execution_count": 19,
   "id": "8c04cc68",
   "metadata": {},
   "outputs": [
    {
     "data": {
      "text/html": [
       "<div>\n",
       "<style scoped>\n",
       "    .dataframe tbody tr th:only-of-type {\n",
       "        vertical-align: middle;\n",
       "    }\n",
       "\n",
       "    .dataframe tbody tr th {\n",
       "        vertical-align: top;\n",
       "    }\n",
       "\n",
       "    .dataframe thead th {\n",
       "        text-align: right;\n",
       "    }\n",
       "</style>\n",
       "<table border=\"1\" class=\"dataframe\">\n",
       "  <thead>\n",
       "    <tr style=\"text-align: right;\">\n",
       "      <th></th>\n",
       "      <th>num_words</th>\n",
       "      <th>num_unique_words</th>\n",
       "      <th>num_stopwords</th>\n",
       "      <th>num_links</th>\n",
       "      <th>num_unique_domains</th>\n",
       "      <th>num_email_addresses</th>\n",
       "      <th>num_spelling_errors</th>\n",
       "      <th>num_urgent_keywords</th>\n",
       "      <th>label</th>\n",
       "    </tr>\n",
       "  </thead>\n",
       "  <tbody>\n",
       "    <tr>\n",
       "      <th>count</th>\n",
       "      <td>524845.00</td>\n",
       "      <td>524845.00</td>\n",
       "      <td>524845.00</td>\n",
       "      <td>524845.00</td>\n",
       "      <td>524845.00</td>\n",
       "      <td>524845.00</td>\n",
       "      <td>524845.00</td>\n",
       "      <td>524845.00</td>\n",
       "      <td>524845.00</td>\n",
       "    </tr>\n",
       "    <tr>\n",
       "      <th>mean</th>\n",
       "      <td>271.77</td>\n",
       "      <td>122.91</td>\n",
       "      <td>78.67</td>\n",
       "      <td>0.90</td>\n",
       "      <td>0.35</td>\n",
       "      <td>2.11</td>\n",
       "      <td>24.33</td>\n",
       "      <td>0.25</td>\n",
       "      <td>0.01</td>\n",
       "    </tr>\n",
       "    <tr>\n",
       "      <th>std</th>\n",
       "      <td>835.32</td>\n",
       "      <td>188.87</td>\n",
       "      <td>242.02</td>\n",
       "      <td>5.60</td>\n",
       "      <td>1.77</td>\n",
       "      <td>13.59</td>\n",
       "      <td>167.56</td>\n",
       "      <td>0.56</td>\n",
       "      <td>0.11</td>\n",
       "    </tr>\n",
       "    <tr>\n",
       "      <th>min</th>\n",
       "      <td>0.00</td>\n",
       "      <td>0.00</td>\n",
       "      <td>0.00</td>\n",
       "      <td>0.00</td>\n",
       "      <td>0.00</td>\n",
       "      <td>0.00</td>\n",
       "      <td>0.00</td>\n",
       "      <td>0.00</td>\n",
       "      <td>0.00</td>\n",
       "    </tr>\n",
       "    <tr>\n",
       "      <th>25%</th>\n",
       "      <td>47.00</td>\n",
       "      <td>38.00</td>\n",
       "      <td>12.00</td>\n",
       "      <td>0.00</td>\n",
       "      <td>0.00</td>\n",
       "      <td>0.00</td>\n",
       "      <td>2.00</td>\n",
       "      <td>0.00</td>\n",
       "      <td>0.00</td>\n",
       "    </tr>\n",
       "    <tr>\n",
       "      <th>50%</th>\n",
       "      <td>120.00</td>\n",
       "      <td>79.00</td>\n",
       "      <td>34.00</td>\n",
       "      <td>0.00</td>\n",
       "      <td>0.00</td>\n",
       "      <td>0.00</td>\n",
       "      <td>8.00</td>\n",
       "      <td>0.00</td>\n",
       "      <td>0.00</td>\n",
       "    </tr>\n",
       "    <tr>\n",
       "      <th>75%</th>\n",
       "      <td>269.00</td>\n",
       "      <td>145.00</td>\n",
       "      <td>79.00</td>\n",
       "      <td>0.00</td>\n",
       "      <td>0.00</td>\n",
       "      <td>1.00</td>\n",
       "      <td>22.00</td>\n",
       "      <td>0.00</td>\n",
       "      <td>0.00</td>\n",
       "    </tr>\n",
       "    <tr>\n",
       "      <th>max</th>\n",
       "      <td>103407.00</td>\n",
       "      <td>13986.00</td>\n",
       "      <td>18904.00</td>\n",
       "      <td>824.00</td>\n",
       "      <td>524.00</td>\n",
       "      <td>1150.00</td>\n",
       "      <td>77167.00</td>\n",
       "      <td>6.00</td>\n",
       "      <td>1.00</td>\n",
       "    </tr>\n",
       "  </tbody>\n",
       "</table>\n",
       "</div>"
      ],
      "text/plain": [
       "       num_words  num_unique_words  num_stopwords  num_links  \\\n",
       "count  524845.00         524845.00      524845.00  524845.00   \n",
       "mean      271.77            122.91          78.67       0.90   \n",
       "std       835.32            188.87         242.02       5.60   \n",
       "min         0.00              0.00           0.00       0.00   \n",
       "25%        47.00             38.00          12.00       0.00   \n",
       "50%       120.00             79.00          34.00       0.00   \n",
       "75%       269.00            145.00          79.00       0.00   \n",
       "max    103407.00          13986.00       18904.00     824.00   \n",
       "\n",
       "       num_unique_domains  num_email_addresses  num_spelling_errors  \\\n",
       "count           524845.00            524845.00            524845.00   \n",
       "mean                 0.35                 2.11                24.33   \n",
       "std                  1.77                13.59               167.56   \n",
       "min                  0.00                 0.00                 0.00   \n",
       "25%                  0.00                 0.00                 2.00   \n",
       "50%                  0.00                 0.00                 8.00   \n",
       "75%                  0.00                 1.00                22.00   \n",
       "max                524.00              1150.00             77167.00   \n",
       "\n",
       "       num_urgent_keywords     label  \n",
       "count            524845.00 524845.00  \n",
       "mean                  0.25      0.01  \n",
       "std                   0.56      0.11  \n",
       "min                   0.00      0.00  \n",
       "25%                   0.00      0.00  \n",
       "50%                   0.00      0.00  \n",
       "75%                   0.00      0.00  \n",
       "max                   6.00      1.00  "
      ]
     },
     "execution_count": 19,
     "metadata": {},
     "output_type": "execute_result"
    }
   ],
   "source": [
    "dataset.describe()"
   ]
  },
  {
   "cell_type": "markdown",
   "id": "564de938",
   "metadata": {},
   "source": [
    "## Tipos de dados:"
   ]
  },
  {
   "cell_type": "code",
   "execution_count": 20,
   "id": "85deee36",
   "metadata": {},
   "outputs": [
    {
     "data": {
      "text/plain": [
       "num_words              int64\n",
       "num_unique_words       int64\n",
       "num_stopwords          int64\n",
       "num_links              int64\n",
       "num_unique_domains     int64\n",
       "num_email_addresses    int64\n",
       "num_spelling_errors    int64\n",
       "num_urgent_keywords    int64\n",
       "label                  int64\n",
       "dtype: object"
      ]
     },
     "execution_count": 20,
     "metadata": {},
     "output_type": "execute_result"
    }
   ],
   "source": [
    "dataset.dtypes"
   ]
  },
  {
   "cell_type": "markdown",
   "id": "5d376fd3",
   "metadata": {},
   "source": [
    "O fato de serem todos atributos numéricos facilita a análise e construção dos modelos, já que não será necessário converter atributos categóricos para numéricos."
   ]
  },
  {
   "cell_type": "markdown",
   "id": "29c6605e",
   "metadata": {},
   "source": [
    "## Verificação de desbalanceamento"
   ]
  },
  {
   "cell_type": "code",
   "execution_count": 21,
   "id": "edd191df",
   "metadata": {},
   "outputs": [
    {
     "data": {
      "image/png": "[encoded data removed]",
      "text/plain": [
       "<Figure size 1500x1000 with 1 Axes>"
      ]
     },
     "metadata": {},
     "output_type": "display_data"
    }
   ],
   "source": [
    "plt.figure(figsize=(15, 10))\n",
    "\n",
    "sns.countplot(x='label', data=dataset)\n",
    "plt.title('Distribution of Phishing and Normal Emails')\n",
    "\n",
    "plt.xlabel('Label')\n",
    "plt.ylabel('Count')\n",
    "plt.xticks([0, 1], ['Normal', 'Phishing'])\n",
    "plt.show()"
   ]
  },
  {
   "cell_type": "code",
   "execution_count": 22,
   "id": "0bee75b5",
   "metadata": {},
   "outputs": [
    {
     "name": "stdout",
     "output_type": "stream",
     "text": [
      "Emails normais: 517896\n",
      "Emails de phishing: 6949\n",
      "label\n",
      "0   98.68\n",
      "1    1.32\n",
      "Name: proportion, dtype: float64\n"
     ]
    }
   ],
   "source": [
    "counts = dataset['label'].value_counts()\n",
    "print(f\"Emails normais: {counts[0]}\")\n",
    "print(f\"Emails de phishing: {counts[1]}\")\n",
    "print(dataset['label'].value_counts(normalize=True) * 100)"
   ]
  },
  {
   "cell_type": "markdown",
   "id": "6123f197",
   "metadata": {},
   "source": [
    "Percebe-se que os dados estão bastante desbalanceados, com apenas pouco mais de 1% pertencendo à classe \"Phishing\". Para que os modelos possam ser treinados corretamente, devemos balancear esses dados, o que pode ser feito tanto por undersampling (reduzindo a classe majoritária) ou oversampling (aumentando a classe minoritária). No nosso caso, escolheremos o método de oversampling para evitar a perda de dados que seria causada pelo undersampling."
   ]
  },
  {
   "cell_type": "code",
   "execution_count": 23,
   "id": "21815637",
   "metadata": {},
   "outputs": [],
   "source": [
    "X = dataset.drop('label', axis=1)\n",
    "y = dataset['label']"
   ]
  },
  {
   "cell_type": "code",
   "execution_count": 24,
   "id": "63c3ee2f",
   "metadata": {},
   "outputs": [
    {
     "data": {
      "image/png": "[encoded data removed]",
      "text/plain": [
       "<Figure size 1500x1000 with 1 Axes>"
      ]
     },
     "metadata": {},
     "output_type": "display_data"
    }
   ],
   "source": [
    "from imblearn.over_sampling import SMOTE\n",
    "\n",
    "smote = SMOTE(random_state=42)\n",
    "X, y = smote.fit_resample(X, y)\n",
    "dataset = pd.concat([X, y], axis=1)\n",
    "\n",
    "plt.figure(figsize=(15, 10))\n",
    "\n",
    "sns.countplot(x='label', data=dataset)\n",
    "plt.title('Distribution of Phishing and Normal Emails')\n",
    "\n",
    "plt.xlabel('Label')\n",
    "plt.ylabel('Count')\n",
    "plt.xticks([0, 1], ['Normal', 'Phishing'])\n",
    "plt.show()"
   ]
  },
  {
   "cell_type": "markdown",
   "id": "dccb080f",
   "metadata": {},
   "source": [
    "# Testando métodos"
   ]
  },
  {
   "cell_type": "code",
   "execution_count": 25,
   "id": "9c10bdab",
   "metadata": {},
   "outputs": [],
   "source": [
    "from sklearn.model_selection import cross_val_score, StratifiedKFold\n",
    "from sklearn.preprocessing import StandardScaler\n",
    "from sklearn.pipeline import Pipeline"
   ]
  },
  {
   "cell_type": "code",
   "execution_count": 26,
   "id": "9d476c2a",
   "metadata": {},
   "outputs": [],
   "source": [
    "cv = StratifiedKFold(n_splits=5, shuffle=True, random_state=42)"
   ]
  },
  {
   "cell_type": "code",
   "execution_count": 27,
   "id": "8dc022fd",
   "metadata": {},
   "outputs": [
    {
     "name": "stdout",
     "output_type": "stream",
     "text": [
      "KNN F1 Score (média): 0.9225\n"
     ]
    }
   ],
   "source": [
    "from sklearn.neighbors import KNeighborsClassifier\n",
    "\n",
    "knn_pipeline = Pipeline([\n",
    "    ('scaler', StandardScaler()),\n",
    "    ('knn', KNeighborsClassifier(n_neighbors=5))\n",
    "])\n",
    "\n",
    "scores = cross_val_score(knn_pipeline, X, y, cv=cv, scoring='f1')\n",
    "print(f'KNN F1 Score (média): {scores.mean():.4f}')"
   ]
  },
  {
   "cell_type": "code",
   "execution_count": 28,
   "id": "4fabe4f5",
   "metadata": {},
   "outputs": [
    {
     "name": "stdout",
     "output_type": "stream",
     "text": [
      "Logistic Regression F1 Score (média): 0.7156\n"
     ]
    }
   ],
   "source": [
    "from sklearn.linear_model import LogisticRegression\n",
    "\n",
    "logreg_pipeline = Pipeline([\n",
    "    ('scaler', StandardScaler()),\n",
    "    ('logreg', LogisticRegression(max_iter=1000))\n",
    "])\n",
    "\n",
    "scores = cross_val_score(logreg_pipeline, X, y, cv=cv, scoring='f1')\n",
    "print(f'Logistic Regression F1 Score (média): {scores.mean():.4f}')\n"
   ]
  },
  {
   "cell_type": "code",
   "execution_count": 29,
   "id": "e4c16fde",
   "metadata": {},
   "outputs": [
    {
     "name": "stdout",
     "output_type": "stream",
     "text": [
      "Random Forest F1 Score (média): 0.9726\n"
     ]
    }
   ],
   "source": [
    "from sklearn.ensemble import RandomForestClassifier\n",
    "\n",
    "rf = RandomForestClassifier(n_estimators=100, random_state=42)\n",
    "scores = cross_val_score(rf, X, y, cv=cv, scoring='f1')\n",
    "print(f'Random Forest F1 Score (média): {scores.mean():.4f}')"
   ]
  },
  {
   "cell_type": "code",
   "execution_count": null,
   "id": "bd3acb48",
   "metadata": {},
   "outputs": [],
   "source": []
  }
 ],
 "metadata": {
  "kernelspec": {
   "display_name": "Python 3",
   "language": "python",
   "name": "python3"
  },
  "language_info": {
   "codemirror_mode": {
    "name": "ipython",
    "version": 3
   },
   "file_extension": ".py",
   "mimetype": "text/x-python",
   "name": "python",
   "nbconvert_exporter": "python",
   "pygments_lexer": "ipython3",
   "version": "3.10.12"
  }
 },
 "nbformat": 4,
 "nbformat_minor": 5
}
